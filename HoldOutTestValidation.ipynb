{
 "cells": [
  {
   "cell_type": "code",
   "execution_count": 1,
   "metadata": {},
   "outputs": [],
   "source": [
    "#Data Manipulation\n",
    "import pandas as pd\n",
    "import numpy as np\n",
    "\n",
    "# Visualization\n",
    "import matplotlib.pyplot as plt\n",
    "import seaborn as sns"
   ]
  },
  {
   "cell_type": "markdown",
   "metadata": {},
   "source": [
    "## READ TEST DATASET"
   ]
  },
  {
   "cell_type": "markdown",
   "metadata": {},
   "source": [
    "**Please modify the file directory in the code below for reading the holdout test set features and labels files.**"
   ]
  },
  {
   "cell_type": "code",
   "execution_count": 2,
   "metadata": {},
   "outputs": [],
   "source": [
    "df_test=pd.read_csv(\"ExampleTestSet/ExampleTestSet_Data.csv\")"
   ]
  },
  {
   "cell_type": "markdown",
   "metadata": {},
   "source": [
    "If test dataset involve multiple files, please modify below code to append a full dataframe. Ensure that the hold out test set features are written to pd DataFrame named  \"df_test\""
   ]
  },
  {
   "cell_type": "code",
   "execution_count": 3,
   "metadata": {},
   "outputs": [],
   "source": [
    "#df_raw0=pd.read_csv(\"ExampleTestSet/ExampleTestSet_Data1.csv\")\n",
    "#df_raw1=pd.read_csv(\"ExampleTestSet/ExampleTestSet_Data2.csv\")\n",
    "#df_raw2=pd.read_csv(\"ExampleTestSet/ExampleTestSet_Data3.csv\")\n",
    "#df_raw2=pd.read_csv(\"ExampleTestSet/ExampleTestSet_Data3.csv\")\n",
    "#df_test= df_raw0.append(df_raw1).append(df_raw2).append(df_raw3)\n",
    "#remove from memory\n",
    "#del df_raw0\n",
    "#del df_raw1\n",
    "#del df_raw2\n",
    "#del df_raw3"
   ]
  },
  {
   "cell_type": "code",
   "execution_count": 4,
   "metadata": {},
   "outputs": [],
   "source": [
    "labels_test=pd.read_csv(\"ExampleTestSet/ExampleTestSet_Label.csv\")"
   ]
  },
  {
   "cell_type": "code",
   "execution_count": 5,
   "metadata": {},
   "outputs": [
    {
     "data": {
      "text/html": [
       "<div>\n",
       "<style scoped>\n",
       "    .dataframe tbody tr th:only-of-type {\n",
       "        vertical-align: middle;\n",
       "    }\n",
       "\n",
       "    .dataframe tbody tr th {\n",
       "        vertical-align: top;\n",
       "    }\n",
       "\n",
       "    .dataframe thead th {\n",
       "        text-align: right;\n",
       "    }\n",
       "</style>\n",
       "<table border=\"1\" class=\"dataframe\">\n",
       "  <thead>\n",
       "    <tr style=\"text-align: right;\">\n",
       "      <th></th>\n",
       "      <th>bookingID</th>\n",
       "      <th>Accuracy</th>\n",
       "      <th>Bearing</th>\n",
       "      <th>acceleration_x</th>\n",
       "      <th>acceleration_y</th>\n",
       "      <th>acceleration_z</th>\n",
       "      <th>gyro_x</th>\n",
       "      <th>gyro_y</th>\n",
       "      <th>gyro_z</th>\n",
       "      <th>second</th>\n",
       "      <th>Speed</th>\n",
       "    </tr>\n",
       "  </thead>\n",
       "  <tbody>\n",
       "    <tr>\n",
       "      <th>0</th>\n",
       "      <td>1202590843006</td>\n",
       "      <td>3.000</td>\n",
       "      <td>353.0</td>\n",
       "      <td>1.228867</td>\n",
       "      <td>8.900100</td>\n",
       "      <td>3.986968</td>\n",
       "      <td>0.008221</td>\n",
       "      <td>0.002269</td>\n",
       "      <td>-0.009966</td>\n",
       "      <td>1362.0</td>\n",
       "      <td>0.000000</td>\n",
       "    </tr>\n",
       "    <tr>\n",
       "      <th>1</th>\n",
       "      <td>1065151889565</td>\n",
       "      <td>8.000</td>\n",
       "      <td>224.0</td>\n",
       "      <td>-0.354353</td>\n",
       "      <td>9.759064</td>\n",
       "      <td>6.476513</td>\n",
       "      <td>0.042109</td>\n",
       "      <td>0.051884</td>\n",
       "      <td>-0.016429</td>\n",
       "      <td>409.0</td>\n",
       "      <td>10.308342</td>\n",
       "    </tr>\n",
       "    <tr>\n",
       "      <th>2</th>\n",
       "      <td>833223655481</td>\n",
       "      <td>3.000</td>\n",
       "      <td>126.0</td>\n",
       "      <td>-2.135000</td>\n",
       "      <td>3.862000</td>\n",
       "      <td>7.854000</td>\n",
       "      <td>0.365186</td>\n",
       "      <td>-0.317739</td>\n",
       "      <td>-0.984665</td>\n",
       "      <td>10.0</td>\n",
       "      <td>0.000000</td>\n",
       "    </tr>\n",
       "    <tr>\n",
       "      <th>3</th>\n",
       "      <td>1211180777501</td>\n",
       "      <td>4.700</td>\n",
       "      <td>171.0</td>\n",
       "      <td>0.773069</td>\n",
       "      <td>9.062111</td>\n",
       "      <td>-0.496280</td>\n",
       "      <td>0.039235</td>\n",
       "      <td>0.019844</td>\n",
       "      <td>-0.001641</td>\n",
       "      <td>958.0</td>\n",
       "      <td>9.459939</td>\n",
       "    </tr>\n",
       "    <tr>\n",
       "      <th>4</th>\n",
       "      <td>1683627180179</td>\n",
       "      <td>3.573</td>\n",
       "      <td>185.0</td>\n",
       "      <td>-1.588242</td>\n",
       "      <td>9.385254</td>\n",
       "      <td>-0.961319</td>\n",
       "      <td>-0.093323</td>\n",
       "      <td>0.190567</td>\n",
       "      <td>-0.029999</td>\n",
       "      <td>506.0</td>\n",
       "      <td>3.470000</td>\n",
       "    </tr>\n",
       "  </tbody>\n",
       "</table>\n",
       "</div>"
      ],
      "text/plain": [
       "       bookingID  Accuracy  Bearing  acceleration_x  acceleration_y  \\\n",
       "0  1202590843006     3.000    353.0        1.228867        8.900100   \n",
       "1  1065151889565     8.000    224.0       -0.354353        9.759064   \n",
       "2   833223655481     3.000    126.0       -2.135000        3.862000   \n",
       "3  1211180777501     4.700    171.0        0.773069        9.062111   \n",
       "4  1683627180179     3.573    185.0       -1.588242        9.385254   \n",
       "\n",
       "   acceleration_z    gyro_x    gyro_y    gyro_z  second      Speed  \n",
       "0        3.986968  0.008221  0.002269 -0.009966  1362.0   0.000000  \n",
       "1        6.476513  0.042109  0.051884 -0.016429   409.0  10.308342  \n",
       "2        7.854000  0.365186 -0.317739 -0.984665    10.0   0.000000  \n",
       "3       -0.496280  0.039235  0.019844 -0.001641   958.0   9.459939  \n",
       "4       -0.961319 -0.093323  0.190567 -0.029999   506.0   3.470000  "
      ]
     },
     "metadata": {},
     "output_type": "display_data"
    },
    {
     "data": {
      "text/html": [
       "<div>\n",
       "<style scoped>\n",
       "    .dataframe tbody tr th:only-of-type {\n",
       "        vertical-align: middle;\n",
       "    }\n",
       "\n",
       "    .dataframe tbody tr th {\n",
       "        vertical-align: top;\n",
       "    }\n",
       "\n",
       "    .dataframe thead th {\n",
       "        text-align: right;\n",
       "    }\n",
       "</style>\n",
       "<table border=\"1\" class=\"dataframe\">\n",
       "  <thead>\n",
       "    <tr style=\"text-align: right;\">\n",
       "      <th></th>\n",
       "      <th>bookingID</th>\n",
       "      <th>label</th>\n",
       "    </tr>\n",
       "  </thead>\n",
       "  <tbody>\n",
       "    <tr>\n",
       "      <th>0</th>\n",
       "      <td>773094113280</td>\n",
       "      <td>0</td>\n",
       "    </tr>\n",
       "    <tr>\n",
       "      <th>1</th>\n",
       "      <td>1340029796375</td>\n",
       "      <td>0</td>\n",
       "    </tr>\n",
       "    <tr>\n",
       "      <th>2</th>\n",
       "      <td>721554505789</td>\n",
       "      <td>0</td>\n",
       "    </tr>\n",
       "    <tr>\n",
       "      <th>3</th>\n",
       "      <td>927712936006</td>\n",
       "      <td>0</td>\n",
       "    </tr>\n",
       "    <tr>\n",
       "      <th>4</th>\n",
       "      <td>1589137899542</td>\n",
       "      <td>0</td>\n",
       "    </tr>\n",
       "  </tbody>\n",
       "</table>\n",
       "</div>"
      ],
      "text/plain": [
       "       bookingID  label\n",
       "0   773094113280      0\n",
       "1  1340029796375      0\n",
       "2   721554505789      0\n",
       "3   927712936006      0\n",
       "4  1589137899542      0"
      ]
     },
     "metadata": {},
     "output_type": "display_data"
    }
   ],
   "source": [
    "display(df_test.head())\n",
    "display(labels_test.head())"
   ]
  },
  {
   "cell_type": "markdown",
   "metadata": {},
   "source": [
    "## DATA CLEANING\n",
    "We need to perform basic data cleaning as we did when we prepared our training dataset\n",
    "### Check for Inconsistency\n",
    "Make sure we address duplicate bookingID in test dataset if any"
   ]
  },
  {
   "cell_type": "code",
   "execution_count": 6,
   "metadata": {},
   "outputs": [
    {
     "name": "stdout",
     "output_type": "stream",
     "text": [
      "No duplicateID in labels_test\n"
     ]
    }
   ],
   "source": [
    "duplicateID=labels_test[labels_test.duplicated(['bookingID'])].bookingID\n",
    "duplicateID\n",
    "if len(duplicateID)>0:\n",
    "    duplicateLabels=labels_test[labels_test.bookingID.isin(duplicateID)]\n",
    "    display(duplicateLabels.sort_values(by=['bookingID','label']))\n",
    "else:\n",
    "    print('No duplicateID in labels_test')\n",
    "        "
   ]
  },
  {
   "cell_type": "markdown",
   "metadata": {},
   "source": [
    "Competition host can decide to remove the duplicatedID by removing them entirely, or choose to select one to keep:"
   ]
  },
  {
   "cell_type": "code",
   "execution_count": 7,
   "metadata": {},
   "outputs": [],
   "source": [
    "#To remove entirely the bookingID with duplicated labels\n",
    "labels_test=labels_test[-labels_test.bookingID.isin(duplicateID)]\n",
    "df_test=df_test[-df_test.bookingID.isin(duplicateID)]"
   ]
  },
  {
   "cell_type": "code",
   "execution_count": 8,
   "metadata": {},
   "outputs": [
    {
     "name": "stdout",
     "output_type": "stream",
     "text": [
      "unique bookingID\n",
      "df_test: 901\n",
      "labels_test: 901\n"
     ]
    }
   ],
   "source": [
    "print('unique bookingID')\n",
    "print('df_test:',len(df_test.bookingID.unique()))\n",
    "print('labels_test:',len(labels_test.bookingID.unique()))"
   ]
  },
  {
   "cell_type": "markdown",
   "metadata": {},
   "source": [
    "### Check for missing value"
   ]
  },
  {
   "cell_type": "code",
   "execution_count": 9,
   "metadata": {},
   "outputs": [
    {
     "name": "stdout",
     "output_type": "stream",
     "text": [
      "no NA in Feature dataset\n",
      "no NA in Labels dataset\n"
     ]
    }
   ],
   "source": [
    "df_na= pd.DataFrame((df_test.isnull().sum().values),index=df_test.columns, columns=['isNA']).sort_values(by=['isNA'],ascending=False)\n",
    "if df_na.loc[df_na.loc[:,'isNA']>0,:].shape[0]>1 :\n",
    "    print(\"Features dataset\")\n",
    "    print(df_na.loc[df_na.loc[:,'isNA']> 0,])\n",
    "else:\n",
    "    print('no NA in Feature dataset')\n",
    "    \n",
    "labels_na= pd.DataFrame((labels_test.isnull().sum().values),index=labels_test.columns, columns=['isNA']).sort_values(by=['isNA'],ascending=False)\n",
    "if labels_na.loc[labels_na.loc[:,'isNA']>0,:].shape[0]>1 :\n",
    "    print(\"Labels dataset\")\n",
    "    print(labels_na.loc[labels_na.loc[:,'isNA']> 0,])\n",
    "else:\n",
    "    print('no NA in Labels dataset')"
   ]
  },
  {
   "cell_type": "code",
   "execution_count": 10,
   "metadata": {},
   "outputs": [],
   "source": [
    "#Drop NA rows if there is any, and make sure df_test and labels_test have equal size of bookingID\n",
    "labels_test.dropna(axis=0, inplace=True)\n",
    "df_test.dropna(axis=0, inplace=True)\n",
    "df_test=df_test[df_test['bookingID'].isin(labels_test['bookingID'])]"
   ]
  },
  {
   "cell_type": "markdown",
   "metadata": {},
   "source": [
    "We will ignore erroneous data as was in our machine learning training module. Feature engineering will take care of that. "
   ]
  },
  {
   "cell_type": "markdown",
   "metadata": {},
   "source": [
    "## FEATURE ENGINEERING\n",
    "We will trim down the features to top10 features used in the final model as illustrated in the other jupyter notebook"
   ]
  },
  {
   "cell_type": "code",
   "execution_count": 11,
   "metadata": {},
   "outputs": [],
   "source": [
    "uniqueBookingID=df_test.bookingID.unique()"
   ]
  },
  {
   "cell_type": "code",
   "execution_count": 12,
   "metadata": {},
   "outputs": [],
   "source": [
    "#Set bookingID and second as index and sort them so seconds are in ascending order per booking ID\n",
    "#This will help us avoid using groupby and sort_values which are time consuming, especially when we do it over loops. \n",
    "df_test.set_index(['bookingID','second'],inplace=True)\n",
    "df_test.sort_index(inplace=True)\n",
    "#Remove second from index, so we will call the data based on bookingID only\n",
    "df_test.reset_index(level=1, inplace=True, col_level=3 )"
   ]
  },
  {
   "cell_type": "code",
   "execution_count": 13,
   "metadata": {},
   "outputs": [
    {
     "name": "stdout",
     "output_type": "stream",
     "text": [
      "progress: 0 / 901\n",
      "progress: 50 / 901\n",
      "progress: 100 / 901\n",
      "progress: 150 / 901\n",
      "progress: 200 / 901\n",
      "progress: 250 / 901\n",
      "progress: 300 / 901\n",
      "progress: 350 / 901\n",
      "progress: 400 / 901\n",
      "progress: 450 / 901\n",
      "progress: 500 / 901\n",
      "progress: 550 / 901\n",
      "progress: 600 / 901\n",
      "progress: 650 / 901\n",
      "progress: 700 / 901\n",
      "progress: 750 / 901\n",
      "progress: 800 / 901\n",
      "progress: 850 / 901\n",
      "progress: 900 / 901\n",
      "progress: 901 / 901 DONE\n"
     ]
    }
   ],
   "source": [
    "#we will need to use sine and radian function from math module\n",
    "import math\n",
    "\n",
    "\n",
    "#Initialize a few objects\n",
    "df_agg=pd.DataFrame()\n",
    "mydict={}\n",
    "\n",
    "\n",
    "\n",
    "#Create features by looping through every bookingID. \n",
    "#We need to take difference between subsequent rows within the under the same bookingID for most features, then aggregate them. \n",
    "for i,ID in enumerate(uniqueBookingID):\n",
    "\n",
    "    #Progress bar to track progress\n",
    "    if i%50 ==0:\n",
    "        print('progress:',i,'/',len(uniqueBookingID))\n",
    "    \n",
    "    df_features=df_test.loc[ID]\n",
    "    df_features['Time_Interval']= df_features['second']-df_features['second'].shift(1)\n",
    "\n",
    "    \n",
    "    #Vehicle decceleration\n",
    "    #=================================    \n",
    "    #Computed by checking for Speed now > Speed before, take the absolute value of Speed difference over time interval\n",
    "    df_features['Vehicle_Deccel']= abs((df_features['Speed']<df_features['Speed'].shift(1))*(\n",
    "        (df_features['Speed']-df_features['Speed'].shift(1))/df_features['Time_Interval']))\n",
    "    \n",
    "    \n",
    "    #Device Acceleration Magnitude\n",
    "    #=================================    \n",
    "    #Using Pythagorean triple, compute for device acceleration magnitude\n",
    "    df_features['Device_Accel'] = np.sqrt(df_features['acceleration_x']**2+df_features['acceleration_y']**2+\n",
    "                                          df_features['acceleration_z']**2)\n",
    "    \n",
    "    \n",
    "    #Rate of Bearing\n",
    "    #=================================    \n",
    "    #Bearing is 0 when car is stationary,we will remove stationary vehicle data since it give a erroneous computation.\n",
    "    #We need to handle the data differently, so a separate dataframe is used in this computation\n",
    "    df_bearing = df_features[['Speed','Bearing','Time_Interval']].copy()\n",
    "    df_bearing=df_bearing[df_bearing['Speed']>0]\n",
    "    df_bearing['Rate_Bearing']=abs(((df_bearing['Bearing'].apply(lambda x: math.sin(math.radians(x)))-df_bearing['Bearing'].\n",
    "                                     shift(1).apply(lambda x: math.sin(math.radians(x))))/df_bearing['Time_Interval']))\n",
    "    #Drop anything above (sine(90deg) = 1), as it is unrealistic.\n",
    "    df_bearing=df_bearing[df_bearing['Rate_Bearing']<1]\n",
    "\n",
    "    \n",
    "    #Speed Multipliers\n",
    "    #================================= \n",
    "    df_features['Speed-Vehicle_Deccel']=abs(df_features['Speed']*df_features['Vehicle_Deccel'])\n",
    "    df_features['Speed-Device_Accel']=abs(df_features['Speed']*df_features['Device_Accel'])\n",
    "\n",
    "    \n",
    "    \n",
    "    #2D-Plane Acceleration Magnitude\n",
    "    #================================= \n",
    "    df_features['yz_Device_Accel']=np.sqrt((df_features['acceleration_y']**2)*(df_features['acceleration_z']**2))\n",
    "    \n",
    "    \n",
    "    #Convert Gyro to Absolute value\n",
    "    #================================= \n",
    "    df_features['gyro_y']=abs(df_features['gyro_y'])\n",
    "    df_features['gyro_z']=abs(df_features['gyro_z'])    \n",
    "    \n",
    "    \n",
    "    \n",
    "    #Replace NaN with 0. NaN is a result of the shift function. Any NaN value can be safely replaced by 0.\n",
    "    df_features.fillna(0)\n",
    "    \n",
    "    #Save bookingID to dict.\n",
    "    mydict['bookingID']=ID\n",
    "    \n",
    "    #Top1 Feature\n",
    "    mydict['Rate_Bearing-max']=df_bearing['Rate_Bearing'].agg('max')\n",
    "    #Top2 Feature\n",
    "    mydict['Speed-Vehicle_Deccel-max']=df_features[df_features['Vehicle_Deccel']>0.5]['Speed-Vehicle_Deccel'].agg('max')\n",
    "    #Top3 Feature\n",
    "    mydict['Speed-Device_Accel-mean']=df_features[df_features['Speed']>0]['Speed-Device_Accel'].agg('mean')\n",
    "    #Top4 Feature\n",
    "    mydict['gyro_y-max']=df_features['gyro_y'].agg('max')\n",
    "    #Top5 Feature\n",
    "    mydict['Device_Accel-std']=df_features[df_features['Speed']>0]['Device_Accel'].agg('std')\n",
    "    #Top6 Feature\n",
    "    mydict['Rate_Bearing-std']=df_bearing['Rate_Bearing'].agg('std')    \n",
    "    #Top7 Feature\n",
    "    mydict['yz_Device_Accel-max']=df_features['yz_Device_Accel'].agg('max')    \n",
    "    #Top8 Feature\n",
    "    mydict['Speed-Device_Accel-max']=df_features[df_features['Speed']>0]['Speed-Device_Accel'].agg('max')\n",
    "    #Top2 Feature\n",
    "    mydict['Speed-Vehicle_Deccel-mean']=df_features[df_features['Vehicle_Deccel']>0.5]['Speed-Vehicle_Deccel'].agg('mean')\n",
    "    #Top4 Feature\n",
    "    mydict['gyro_z-std']=df_features['gyro_z'].agg('std')\n",
    "\n",
    "    df_agg=df_agg.append(mydict,ignore_index=True)    \n",
    "    \n",
    "\n",
    "print('progress:',i+1,'/',len(uniqueBookingID),'DONE')"
   ]
  },
  {
   "cell_type": "markdown",
   "metadata": {},
   "source": [
    "### Preprocessing Data for Machine Learning\n",
    "Using Robust Scaler for data normalization as we did for our training set"
   ]
  },
  {
   "cell_type": "code",
   "execution_count": 14,
   "metadata": {},
   "outputs": [
    {
     "data": {
      "text/html": [
       "<div>\n",
       "<style scoped>\n",
       "    .dataframe tbody tr th:only-of-type {\n",
       "        vertical-align: middle;\n",
       "    }\n",
       "\n",
       "    .dataframe tbody tr th {\n",
       "        vertical-align: top;\n",
       "    }\n",
       "\n",
       "    .dataframe thead th {\n",
       "        text-align: right;\n",
       "    }\n",
       "</style>\n",
       "<table border=\"1\" class=\"dataframe\">\n",
       "  <thead>\n",
       "    <tr style=\"text-align: right;\">\n",
       "      <th></th>\n",
       "      <th>Device_Accel-std</th>\n",
       "      <th>Rate_Bearing-max</th>\n",
       "      <th>Rate_Bearing-std</th>\n",
       "      <th>Speed-Device_Accel-max</th>\n",
       "      <th>Speed-Device_Accel-mean</th>\n",
       "      <th>Speed-Vehicle_Deccel-max</th>\n",
       "      <th>Speed-Vehicle_Deccel-mean</th>\n",
       "      <th>bookingID</th>\n",
       "      <th>gyro_y-max</th>\n",
       "      <th>gyro_z-std</th>\n",
       "      <th>yz_Device_Accel-max</th>\n",
       "    </tr>\n",
       "  </thead>\n",
       "  <tbody>\n",
       "    <tr>\n",
       "      <th>0</th>\n",
       "      <td>0.708672</td>\n",
       "      <td>0.759694</td>\n",
       "      <td>0.082841</td>\n",
       "      <td>222.330841</td>\n",
       "      <td>86.836341</td>\n",
       "      <td>37.858215</td>\n",
       "      <td>7.512580</td>\n",
       "      <td>1202590843006</td>\n",
       "      <td>0.892771</td>\n",
       "      <td>0.039908</td>\n",
       "      <td>67.737684</td>\n",
       "    </tr>\n",
       "    <tr>\n",
       "      <th>1</th>\n",
       "      <td>1.219452</td>\n",
       "      <td>0.474883</td>\n",
       "      <td>0.056263</td>\n",
       "      <td>310.655410</td>\n",
       "      <td>152.828681</td>\n",
       "      <td>52.290209</td>\n",
       "      <td>11.509422</td>\n",
       "      <td>1065151889565</td>\n",
       "      <td>0.810046</td>\n",
       "      <td>0.046827</td>\n",
       "      <td>117.955290</td>\n",
       "    </tr>\n",
       "    <tr>\n",
       "      <th>2</th>\n",
       "      <td>0.913431</td>\n",
       "      <td>0.996940</td>\n",
       "      <td>0.067149</td>\n",
       "      <td>351.631052</td>\n",
       "      <td>174.259333</td>\n",
       "      <td>44.272142</td>\n",
       "      <td>9.046797</td>\n",
       "      <td>833223655481</td>\n",
       "      <td>2.179927</td>\n",
       "      <td>0.128287</td>\n",
       "      <td>74.117892</td>\n",
       "    </tr>\n",
       "    <tr>\n",
       "      <th>3</th>\n",
       "      <td>0.482243</td>\n",
       "      <td>0.838671</td>\n",
       "      <td>0.059654</td>\n",
       "      <td>260.245242</td>\n",
       "      <td>104.928429</td>\n",
       "      <td>38.432344</td>\n",
       "      <td>8.340140</td>\n",
       "      <td>1211180777501</td>\n",
       "      <td>0.745709</td>\n",
       "      <td>0.016733</td>\n",
       "      <td>45.315252</td>\n",
       "    </tr>\n",
       "    <tr>\n",
       "      <th>4</th>\n",
       "      <td>0.992677</td>\n",
       "      <td>0.424852</td>\n",
       "      <td>0.039029</td>\n",
       "      <td>381.933244</td>\n",
       "      <td>167.039973</td>\n",
       "      <td>54.355500</td>\n",
       "      <td>11.039232</td>\n",
       "      <td>1683627180179</td>\n",
       "      <td>0.512268</td>\n",
       "      <td>0.023265</td>\n",
       "      <td>95.259883</td>\n",
       "    </tr>\n",
       "    <tr>\n",
       "      <th>5</th>\n",
       "      <td>0.522757</td>\n",
       "      <td>0.398356</td>\n",
       "      <td>0.050114</td>\n",
       "      <td>328.720787</td>\n",
       "      <td>150.562313</td>\n",
       "      <td>21.571200</td>\n",
       "      <td>8.311932</td>\n",
       "      <td>51539607586</td>\n",
       "      <td>0.486694</td>\n",
       "      <td>0.016660</td>\n",
       "      <td>67.513887</td>\n",
       "    </tr>\n",
       "    <tr>\n",
       "      <th>6</th>\n",
       "      <td>1.056481</td>\n",
       "      <td>0.548174</td>\n",
       "      <td>0.053711</td>\n",
       "      <td>427.086148</td>\n",
       "      <td>179.628040</td>\n",
       "      <td>63.685516</td>\n",
       "      <td>18.749364</td>\n",
       "      <td>429496729692</td>\n",
       "      <td>0.709390</td>\n",
       "      <td>0.062943</td>\n",
       "      <td>89.271262</td>\n",
       "    </tr>\n",
       "    <tr>\n",
       "      <th>7</th>\n",
       "      <td>0.881465</td>\n",
       "      <td>0.805463</td>\n",
       "      <td>0.079983</td>\n",
       "      <td>375.926500</td>\n",
       "      <td>133.446997</td>\n",
       "      <td>27.817096</td>\n",
       "      <td>7.157798</td>\n",
       "      <td>94489280692</td>\n",
       "      <td>0.857074</td>\n",
       "      <td>0.018357</td>\n",
       "      <td>85.991259</td>\n",
       "    </tr>\n",
       "    <tr>\n",
       "      <th>8</th>\n",
       "      <td>0.595386</td>\n",
       "      <td>0.603498</td>\n",
       "      <td>0.065764</td>\n",
       "      <td>225.074241</td>\n",
       "      <td>101.012976</td>\n",
       "      <td>26.379600</td>\n",
       "      <td>7.226543</td>\n",
       "      <td>558345748600</td>\n",
       "      <td>0.582169</td>\n",
       "      <td>0.021768</td>\n",
       "      <td>56.440356</td>\n",
       "    </tr>\n",
       "    <tr>\n",
       "      <th>9</th>\n",
       "      <td>0.725880</td>\n",
       "      <td>0.545166</td>\n",
       "      <td>0.054162</td>\n",
       "      <td>297.534192</td>\n",
       "      <td>123.759304</td>\n",
       "      <td>40.263366</td>\n",
       "      <td>11.675759</td>\n",
       "      <td>1511828488338</td>\n",
       "      <td>2.186202</td>\n",
       "      <td>0.048235</td>\n",
       "      <td>73.146957</td>\n",
       "    </tr>\n",
       "  </tbody>\n",
       "</table>\n",
       "</div>"
      ],
      "text/plain": [
       "   Device_Accel-std  Rate_Bearing-max  Rate_Bearing-std  \\\n",
       "0          0.708672          0.759694          0.082841   \n",
       "1          1.219452          0.474883          0.056263   \n",
       "2          0.913431          0.996940          0.067149   \n",
       "3          0.482243          0.838671          0.059654   \n",
       "4          0.992677          0.424852          0.039029   \n",
       "5          0.522757          0.398356          0.050114   \n",
       "6          1.056481          0.548174          0.053711   \n",
       "7          0.881465          0.805463          0.079983   \n",
       "8          0.595386          0.603498          0.065764   \n",
       "9          0.725880          0.545166          0.054162   \n",
       "\n",
       "   Speed-Device_Accel-max  Speed-Device_Accel-mean  Speed-Vehicle_Deccel-max  \\\n",
       "0              222.330841                86.836341                 37.858215   \n",
       "1              310.655410               152.828681                 52.290209   \n",
       "2              351.631052               174.259333                 44.272142   \n",
       "3              260.245242               104.928429                 38.432344   \n",
       "4              381.933244               167.039973                 54.355500   \n",
       "5              328.720787               150.562313                 21.571200   \n",
       "6              427.086148               179.628040                 63.685516   \n",
       "7              375.926500               133.446997                 27.817096   \n",
       "8              225.074241               101.012976                 26.379600   \n",
       "9              297.534192               123.759304                 40.263366   \n",
       "\n",
       "   Speed-Vehicle_Deccel-mean      bookingID  gyro_y-max  gyro_z-std  \\\n",
       "0                   7.512580  1202590843006    0.892771    0.039908   \n",
       "1                  11.509422  1065151889565    0.810046    0.046827   \n",
       "2                   9.046797   833223655481    2.179927    0.128287   \n",
       "3                   8.340140  1211180777501    0.745709    0.016733   \n",
       "4                  11.039232  1683627180179    0.512268    0.023265   \n",
       "5                   8.311932    51539607586    0.486694    0.016660   \n",
       "6                  18.749364   429496729692    0.709390    0.062943   \n",
       "7                   7.157798    94489280692    0.857074    0.018357   \n",
       "8                   7.226543   558345748600    0.582169    0.021768   \n",
       "9                  11.675759  1511828488338    2.186202    0.048235   \n",
       "\n",
       "   yz_Device_Accel-max  \n",
       "0            67.737684  \n",
       "1           117.955290  \n",
       "2            74.117892  \n",
       "3            45.315252  \n",
       "4            95.259883  \n",
       "5            67.513887  \n",
       "6            89.271262  \n",
       "7            85.991259  \n",
       "8            56.440356  \n",
       "9            73.146957  "
      ]
     },
     "execution_count": 14,
     "metadata": {},
     "output_type": "execute_result"
    }
   ],
   "source": [
    "from sklearn import preprocessing\n",
    "scaler = preprocessing.RobustScaler()\n",
    "df_agg_scaled = scaler.fit_transform(df_agg)\n",
    "df_agg_scaled = pd.DataFrame(df_agg, columns=df_agg.columns)\n",
    "df_agg_scaled['bookingID']=pd.to_numeric(df_agg['bookingID'],downcast='signed')\n",
    "df_agg_scaled.head(10)"
   ]
  },
  {
   "cell_type": "markdown",
   "metadata": {},
   "source": [
    "Merge feature dataset with label so we can allign their index as we define X and y sets."
   ]
  },
  {
   "cell_type": "code",
   "execution_count": 15,
   "metadata": {},
   "outputs": [
    {
     "name": "stdout",
     "output_type": "stream",
     "text": [
      "bookingID [438086664198] have NaN after feature engineering, and had been removed.\n"
     ]
    }
   ],
   "source": [
    "#merge features with label\n",
    "df_agg_scaled=pd.merge(df_agg,labels_test,on='bookingID')\n",
    "\n",
    "#set bookingID as index\n",
    "df_agg_scaled.set_index('bookingID',inplace=True)\n",
    "\n",
    "#remove any rows with NaN due to aggregation during feature engineering\n",
    "#Usually these are the ones with Speed all = -1\n",
    "print(\"bookingID\",df_agg_scaled[df_agg_scaled.isna().any(axis=1)].index.values,\n",
    "      \"have NaN after feature engineering, and had been removed.\")\n",
    "df_agg_scaled.dropna(axis=0, how='any', inplace=True)"
   ]
  },
  {
   "cell_type": "code",
   "execution_count": 16,
   "metadata": {},
   "outputs": [],
   "source": [
    "X_test = df_agg_scaled.drop(columns=['label'])\n",
    "y_test = df_agg_scaled['label']"
   ]
  },
  {
   "cell_type": "markdown",
   "metadata": {},
   "source": [
    "Reorder the columns correctly as the model only evaluate column based on positional index, not column name."
   ]
  },
  {
   "cell_type": "code",
   "execution_count": 17,
   "metadata": {},
   "outputs": [],
   "source": [
    "col_order=['Rate_Bearing-max','Speed-Vehicle_Deccel-max','Speed-Device_Accel-mean','gyro_y-max','Device_Accel-std',\n",
    "           'Rate_Bearing-std','yz_Device_Accel-max','Speed-Device_Accel-max','Speed-Vehicle_Deccel-mean','gyro_z-std']\n",
    "X_test=X_test[col_order]"
   ]
  },
  {
   "cell_type": "markdown",
   "metadata": {},
   "source": [
    "## MACHINE LEARNING\n",
    "First initialize a few modules"
   ]
  },
  {
   "cell_type": "code",
   "execution_count": 18,
   "metadata": {},
   "outputs": [],
   "source": [
    "import lightgbm as lgb\n",
    "from sklearn.metrics import classification_report,confusion_matrix,roc_curve,auc,roc_auc_score,precision_recall_curve,average_precision_score\n",
    "import time\n",
    "\n",
    "auc=pd.DataFrame()\n",
    "avg_precision=pd.DataFrame()\n",
    "runtime=pd.DataFrame()\n"
   ]
  },
  {
   "cell_type": "markdown",
   "metadata": {},
   "source": [
    "Setup a function for plotting : <br>\n",
    "1) Receiver Operating Characteristic (ROC)<br>\n",
    "2) Precision-Recall curve (PRC)"
   ]
  },
  {
   "cell_type": "code",
   "execution_count": 19,
   "metadata": {},
   "outputs": [],
   "source": [
    "def plot_ROC_PRC(false_positive_rate, true_positive_rate,recall, precision):\n",
    "        # Plot ROC curves\n",
    "        fig= plt.figure(figsize=(15,8))\n",
    "        ax1=fig.add_subplot(1,2,1)    \n",
    "        ax1.set_title('Receiver Operating Characteristic')\n",
    "        ax1.plot(false_positive_rate, true_positive_rate)\n",
    "        ax1.plot([0, 1], ls=\"--\")\n",
    "        ax1.plot([0, 0], [1, 0] , c=\".7\"), plt.plot([1, 1] , c=\".7\")\n",
    "        ax1.set_ylabel('True Positive Rate')\n",
    "        ax1.set_xlabel('False Positive Rate')\n",
    "        \n",
    "        # Plot PRC curves\n",
    "        ax2=fig.add_subplot(1,2,2)    \n",
    "        ax2.set_title('Precision-Recall curve')\n",
    "        ax2.plot(recall, precision)\n",
    "        ax2.plot([0, 0], [1,0] , c=\".7\"), plt.plot([0,0] , c=\".7\")\n",
    "        ax2.set_ylabel('Precision')\n",
    "        ax2.set_xlabel('Recall')\n",
    "        plt.show()"
   ]
  },
  {
   "cell_type": "markdown",
   "metadata": {},
   "source": [
    "We will import our trained light gradient boosting model from before. "
   ]
  },
  {
   "cell_type": "code",
   "execution_count": 20,
   "metadata": {},
   "outputs": [
    {
     "data": {
      "text/plain": [
       "LGBMClassifier(boosting_type='goss', class_weight={0: 1, 1: 2.6},\n",
       "        colsample_bytree=1.0, importance_type='gain', learning_rate=0.0012,\n",
       "        max_depth=-1, metric='auc', min_child_samples=20,\n",
       "        min_child_weight=0.001, min_split_gain=3, n_estimators=5000,\n",
       "        n_jobs=4, num_leaves=13, objective='binary', random_state=123,\n",
       "        reg_alpha=0.6, reg_lambda=0.84, silent=True, subsample=1.0,\n",
       "        subsample_for_bin=200000, subsample_freq=0)"
      ]
     },
     "execution_count": 20,
     "metadata": {},
     "output_type": "execute_result"
    }
   ],
   "source": [
    "import pickle\n",
    "Trained_Model_LGB = pickle.load(open('Trained_Model/Trained_Model_LGB.sav', 'rb'))\n",
    "Trained_Model_LGB"
   ]
  },
  {
   "cell_type": "code",
   "execution_count": 21,
   "metadata": {},
   "outputs": [
    {
     "name": "stdout",
     "output_type": "stream",
     "text": [
      "\n",
      "Light Gradient Boosting: \n",
      "roc_auc_score:  0.6934371832085582\n",
      "Average Precision:  0.48486341510752917\n",
      "Computation Time:  0.15 s\n",
      "\n",
      "Confusion Matrix:\n",
      " [[509 150]\n",
      " [129 112]]\n",
      "\n",
      "Classification Report:\n",
      "               precision    recall  f1-score   support\n",
      "\n",
      "           0       0.80      0.77      0.78       659\n",
      "           1       0.43      0.46      0.45       241\n",
      "\n",
      "   micro avg       0.69      0.69      0.69       900\n",
      "   macro avg       0.61      0.62      0.62       900\n",
      "weighted avg       0.70      0.69      0.69       900\n",
      "\n"
     ]
    },
    {
     "data": {
      "image/png": "[encoded data removed]",
      "text/plain": [
       "<Figure size 1080x576 with 2 Axes>"
      ]
     },
     "metadata": {
      "needs_background": "light"
     },
     "output_type": "display_data"
    }
   ],
   "source": [
    "start = time.time()\n",
    "y_pred_lgb=Trained_Model_LGB.predict(X_test) \n",
    "y_score_lgb=Trained_Model_LGB.predict_proba(X_test)[:,1] \n",
    "end = time.time()\n",
    "runtime_lgb = round(end - start,2)\n",
    "\n",
    "\n",
    "confusion=confusion_matrix(y_test, y_pred_lgb)\n",
    "false_positive_rate_lgb, true_positive_rate_lgb, threshold = roc_curve(y_test, y_score_lgb)\n",
    "precision_lgb, recall_lgb, _ = precision_recall_curve(y_test, y_score_lgb)\n",
    "\n",
    "auc_lgb=roc_auc_score(y_test, y_score_lgb)\n",
    "avg_precision_lgb=average_precision_score(y_test, y_score_lgb)\n",
    "print('\\nLight Gradient Boosting: \\nroc_auc_score: ', auc_lgb)\n",
    "print('Average Precision: ',avg_precision_lgb)\n",
    "print('Computation Time: ', runtime_lgb ,'s')\n",
    "print('\\nConfusion Matrix:\\n',confusion)\n",
    "print('\\nClassification Report:\\n',classification_report(y_test,y_pred_lgb))\n",
    "\n",
    "plot_ROC_PRC(false_positive_rate_lgb, true_positive_rate_lgb, recall_lgb, precision_lgb)"
   ]
  },
  {
   "cell_type": "code",
   "execution_count": null,
   "metadata": {},
   "outputs": [],
   "source": []
  },
  {
   "cell_type": "code",
   "execution_count": null,
   "metadata": {},
   "outputs": [],
   "source": []
  }
 ],
 "metadata": {
  "kernelspec": {
   "display_name": "Python 3",
   "language": "python",
   "name": "python3"
  },
  "language_info": {
   "codemirror_mode": {
    "name": "ipython",
    "version": 3
   },
   "file_extension": ".py",
   "mimetype": "text/x-python",
   "name": "python",
   "nbconvert_exporter": "python",
   "pygments_lexer": "ipython3",
   "version": "3.7.1"
  }
 },
 "nbformat": 4,
 "nbformat_minor": 2
}
